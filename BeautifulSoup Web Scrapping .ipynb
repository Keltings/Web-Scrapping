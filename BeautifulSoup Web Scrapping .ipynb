{
 "cells": [
  {
   "cell_type": "code",
   "execution_count": 2,
   "id": "30afa1b5",
   "metadata": {},
   "outputs": [],
   "source": [
    "# impor bs4 the beautiful soup library\n",
    "from bs4 import BeautifulSoup\n",
    "\n",
    "# create a html document\n",
    "html_doc = \"\"\"<html>\n",
    "<body>\n",
    "<h1>My Fisrt Heading</h1>\n",
    "<b><!--This is a comment line--></b>\n",
    "<p title=\"About Me\" class=\"test\">y fist paragraph.</p>\n",
    "<div class=\"cities\">\n",
    "<h2>London</h2>\n",
    "</div>\n",
    "</body>\n",
    "</html>\"\"\"\n",
    "\n",
    "#parse it using html parser\n",
    "soup = BeautifulSoup(html_doc, 'html.parser')"
   ]
  },
  {
   "cell_type": "code",
   "execution_count": 2,
   "id": "17d34291",
   "metadata": {},
   "outputs": [
    {
     "data": {
      "text/plain": [
       "bs4.BeautifulSoup"
      ]
     },
     "execution_count": 2,
     "metadata": {},
     "output_type": "execute_result"
    }
   ],
   "source": [
    "# view the soup type\n",
    "type(soup)"
   ]
  },
  {
   "cell_type": "code",
   "execution_count": 3,
   "id": "f4e75909",
   "metadata": {},
   "outputs": [
    {
     "name": "stdout",
     "output_type": "stream",
     "text": [
      "<html>\n",
      "<body>\n",
      "<h1>My Fisrt Heading</h1>\n",
      "<b><!--This is a comment line--></b>\n",
      "<p class=\"test\" title=\"About Me\">y fist paragraph.</p>\n",
      "<div class=\"cities\">\n",
      "<h2>London</h2>\n",
      "</div>\n",
      "</body>\n",
      "</html>\n"
     ]
    }
   ],
   "source": [
    "#view the soup object\n",
    "print (soup)"
   ]
  },
  {
   "cell_type": "code",
   "execution_count": 4,
   "id": "76b0ca44",
   "metadata": {},
   "outputs": [],
   "source": [
    "#create a tag object\n",
    "tag = soup.p"
   ]
  },
  {
   "cell_type": "code",
   "execution_count": 5,
   "id": "c7dff35d",
   "metadata": {},
   "outputs": [
    {
     "data": {
      "text/plain": [
       "bs4.element.Tag"
      ]
     },
     "execution_count": 5,
     "metadata": {},
     "output_type": "execute_result"
    }
   ],
   "source": [
    "#view the tag object type\n",
    "type(tag)"
   ]
  },
  {
   "cell_type": "code",
   "execution_count": 6,
   "id": "6bbda435",
   "metadata": {},
   "outputs": [
    {
     "name": "stdout",
     "output_type": "stream",
     "text": [
      "<p class=\"test\" title=\"About Me\">y fist paragraph.</p>\n"
     ]
    }
   ],
   "source": [
    "#print the tag\n",
    "print(tag)"
   ]
  },
  {
   "cell_type": "code",
   "execution_count": 7,
   "id": "fc3eedfa",
   "metadata": {},
   "outputs": [],
   "source": [
    "#create a coment object type\n",
    "comment =soup.b.string"
   ]
  },
  {
   "cell_type": "code",
   "execution_count": 8,
   "id": "05961c8f",
   "metadata": {},
   "outputs": [
    {
     "data": {
      "text/plain": [
       "bs4.element.Comment"
      ]
     },
     "execution_count": 8,
     "metadata": {},
     "output_type": "execute_result"
    }
   ],
   "source": [
    "# view the comment object type\n",
    "type(comment)"
   ]
  },
  {
   "cell_type": "code",
   "execution_count": 9,
   "id": "4e46784a",
   "metadata": {},
   "outputs": [
    {
     "data": {
      "text/plain": [
       "'This is a comment line'"
      ]
     },
     "execution_count": 9,
     "metadata": {},
     "output_type": "execute_result"
    }
   ],
   "source": [
    "#view the comment\n",
    "comment"
   ]
  },
  {
   "cell_type": "code",
   "execution_count": 10,
   "id": "42849e0c",
   "metadata": {},
   "outputs": [
    {
     "data": {
      "text/plain": [
       "{'title': 'About Me', 'class': ['test']}"
      ]
     },
     "execution_count": 10,
     "metadata": {},
     "output_type": "execute_result"
    }
   ],
   "source": [
    "#view the tag attribute\n",
    "tag.attrs"
   ]
  },
  {
   "cell_type": "code",
   "execution_count": 11,
   "id": "3fb16e40",
   "metadata": {},
   "outputs": [
    {
     "data": {
      "text/plain": [
       "'y fist paragraph.'"
      ]
     },
     "execution_count": 11,
     "metadata": {},
     "output_type": "execute_result"
    }
   ],
   "source": [
    "#view the tag value\n",
    "tag.string"
   ]
  },
  {
   "cell_type": "code",
   "execution_count": 12,
   "id": "47c57595",
   "metadata": {},
   "outputs": [
    {
     "data": {
      "text/plain": [
       "bs4.element.NavigableString"
      ]
     },
     "execution_count": 12,
     "metadata": {},
     "output_type": "execute_result"
    }
   ],
   "source": [
    "#view the tag type (navigable string)\n",
    "type(tag.string)"
   ]
  },
  {
   "cell_type": "markdown",
   "id": "b9f593c9",
   "metadata": {},
   "source": [
    "## Understanding the Tree\n"
   ]
  },
  {
   "cell_type": "raw",
   "id": "f90cbab4",
   "metadata": {},
   "source": [
    "<!DOCTYPE html>\n",
    "<html>\n",
    "    <body>\n",
    "        <div>\n",
    "            <div class=\"organizationlist\">\n",
    "                <ul id=\"HR\">\n",
    "                    <li class=\"HRmanager\">\n",
    "                        <div class=\"name\">Jack</div>\n",
    "                            <div class=\"ID\">65</div>\n",
    "                     </li>\n",
    "                     <li class=\"ITmanager\">   \n",
    "                         <div class=\"name\">Daren</div>\n",
    "                         <div class=\"ID>101</div>\n",
    "                     </li>\n",
    "                </ul>\n",
    "           </div>\n",
    "     </body>\n",
    "</html>\n",
    "                            "
   ]
  },
  {
   "cell_type": "markdown",
   "id": "fa563bb9",
   "metadata": {},
   "source": [
    "### Searching the Tree-Filters\n",
    "With the help of the search filters technique,you can extract specific information from the parsed document.\n",
    "The filters can be created as search criteria for extractinf information based on the elemnets present in the document\n",
    "There are various filters usde for searching information from a tree\n",
    "- String: \n",
    "It is the smallest filterBS will perform a match aginst the search string\n",
    "- Regular Expressions:\n",
    "filters the match against the search criteria\n",
    "- Function:\n",
    "filters the elements that match againts its only argument\n",
    "- List:\n",
    "a list filters the string that matches against the search item in the list\n",
    "\n"
   ]
  },
  {
   "cell_type": "markdown",
   "id": "67649027",
   "metadata": {},
   "source": [
    "\n",
    "#### Searching the tree with find_all()\n",
    "It searches and retrieves all tags' descendants that matches your filters"
   ]
  },
  {
   "cell_type": "raw",
   "id": "8f85fbfe",
   "metadata": {},
   "source": [
    "find_all-------method finds the entire document looking for results\n",
    "(\n",
    "    name,-------pass args for tags with name\n",
    "    attrs,------pass tags with attribute\n",
    "    recursive,------pass boolean value for recursive operations\n",
    "    string,--------search for string instead of tags\n",
    "    limit,------limit the search result to numeric value passed \n",
    "    **kwargs-----filters multiple attributes by passing multiple keywords in the arg\n",
    ")"
   ]
  },
  {
   "cell_type": "markdown",
   "id": "f0b4c666",
   "metadata": {},
   "source": [
    "#### Searching the tree with find()\n",
    "Used to find one result"
   ]
  },
  {
   "cell_type": "raw",
   "id": "286cb3c3",
   "metadata": {},
   "source": [
    "\n",
    "Has similar syntax with the find_all()\n",
    "but with some key difference\n",
    "    Method Name ---------- Search Scope ------------------- Match Found ------------------------- Match Not Found\n",
    "    ----------------------------------------------------------------------------------------------------------------\n",
    "    Find_all() ----------- Scan entire doc ---------------- Returns list with values ------------ Returns empty list\n",
    "    ----------------------------------------------------------------------------------------------------------------\n",
    "    Find() --------------- Searches only for passed arg---- Returns only the first match value--- Returns None"
   ]
  },
  {
   "cell_type": "markdown",
   "id": "cfb383f1",
   "metadata": {},
   "source": [
    "#### Searching the parsed tree with other methods:"
   ]
  },
  {
   "cell_type": "raw",
   "id": "44b9bdbc",
   "metadata": {},
   "source": [
    "Scans for all the matches --------------- Scans only for the first match\n",
    "----------------------------------------------------------------------------------------------\n",
    "find_parents() -------------------------- find_parent()\n",
    "find_previous_siblings() ---------------- find_previous_sibling()\n",
    "find_all_next() ------------------------- find_next()\n",
    "find_all_previaous() -------------------- find_previous()\n",
    "find_next_siblings() -------------------- findnext_sibling()"
   ]
  },
  {
   "cell_type": "code",
   "execution_count": 13,
   "id": "c7ed4d53",
   "metadata": {},
   "outputs": [],
   "source": [
    "#import the reqired library\n",
    "from bs4 import BeautifulSoup"
   ]
  },
  {
   "cell_type": "code",
   "execution_count": 16,
   "id": "c0a7d448",
   "metadata": {
    "scrolled": true
   },
   "outputs": [
    {
     "ename": "FileNotFoundError",
     "evalue": "[Errno 2] No such file or directory: 'web_scrapping example.html'",
     "output_type": "error",
     "traceback": [
      "\u001b[1;31m---------------------------------------------------------------------------\u001b[0m",
      "\u001b[1;31mFileNotFoundError\u001b[0m                         Traceback (most recent call last)",
      "\u001b[1;32m~\\AppData\\Local\\Temp/ipykernel_10312/3421969326.py\u001b[0m in \u001b[0;36m<module>\u001b[1;34m\u001b[0m\n\u001b[0;32m      2\u001b[0m \u001b[0mHTMLfilePath\u001b[0m \u001b[1;33m=\u001b[0m \u001b[1;34m\"web_scrapping example.html\"\u001b[0m \u001b[1;31m#change as per the path of your HTMLfile\u001b[0m\u001b[1;33m\u001b[0m\u001b[1;33m\u001b[0m\u001b[0m\n\u001b[0;32m      3\u001b[0m \u001b[1;33m\u001b[0m\u001b[0m\n\u001b[1;32m----> 4\u001b[1;33m \u001b[1;32mwith\u001b[0m \u001b[0mopen\u001b[0m\u001b[1;33m(\u001b[0m\u001b[0mHTMLfilePath\u001b[0m\u001b[1;33m,\u001b[0m\u001b[1;34m\"r\"\u001b[0m\u001b[1;33m)\u001b[0m \u001b[1;32mas\u001b[0m \u001b[0morganization\u001b[0m\u001b[1;33m:\u001b[0m\u001b[1;33m\u001b[0m\u001b[1;33m\u001b[0m\u001b[0m\n\u001b[0m\u001b[0;32m      5\u001b[0m     \u001b[0msoup\u001b[0m \u001b[1;33m=\u001b[0m \u001b[0mBeautifulSoup\u001b[0m\u001b[1;33m(\u001b[0m\u001b[0morganization\u001b[0m\u001b[1;33m,\u001b[0m\u001b[1;34m\"lxml\"\u001b[0m\u001b[1;33m)\u001b[0m\u001b[1;33m\u001b[0m\u001b[1;33m\u001b[0m\u001b[0m\n",
      "\u001b[1;31mFileNotFoundError\u001b[0m: [Errno 2] No such file or directory: 'web_scrapping example.html'"
     ]
    }
   ],
   "source": [
    "#import the webscraping example html file\n",
    "HTMLfilePath = \"web_scrapping example.html\" #change as per the path of your HTMLfile\n",
    "\n",
    "with open(HTMLfilePath,\"r\") as organization:\n",
    "    soup = BeautifulSoup(organization,\"lxml\")"
   ]
  },
  {
   "cell_type": "code",
   "execution_count": null,
   "id": "2a2bd3b5",
   "metadata": {},
   "outputs": [],
   "source": [
    "#view the content of the soup object#search using find method\n",
    "soup.contents"
   ]
  },
  {
   "cell_type": "code",
   "execution_count": null,
   "id": "c950487d",
   "metadata": {},
   "outputs": [],
   "source": [
    "#search using find method\n",
    "tag_li = soup.find('li')"
   ]
  },
  {
   "cell_type": "code",
   "execution_count": null,
   "id": "38ff54cc",
   "metadata": {},
   "outputs": [],
   "source": [
    "#print the tag type\n",
    "print(type(tag_li))"
   ]
  },
  {
   "cell_type": "code",
   "execution_count": null,
   "id": "78e2ceae",
   "metadata": {},
   "outputs": [],
   "source": [
    "#print the tag\n",
    "print(tag_li)"
   ]
  },
  {
   "cell_type": "code",
   "execution_count": null,
   "id": "87c4cb39",
   "metadata": {},
   "outputs": [],
   "source": [
    "#search the document using find method for an id\n",
    "find_id = soup.find(id=\"HR\")"
   ]
  },
  {
   "cell_type": "code",
   "execution_count": null,
   "id": "f9bfb579",
   "metadata": {},
   "outputs": [],
   "source": [
    "##print the find id object\n",
    "print(find_id)"
   ]
  },
  {
   "cell_type": "code",
   "execution_count": null,
   "id": "59a0b97b",
   "metadata": {},
   "outputs": [],
   "source": [
    "#print the string value\n",
    "print(find_id.li.div.string)"
   ]
  },
  {
   "cell_type": "code",
   "execution_count": null,
   "id": "f10d15d2",
   "metadata": {},
   "outputs": [],
   "source": [
    "#search using string only\n",
    "search_for_string_only = soup.findall(text=['Kelly','Jack'])"
   ]
  },
  {
   "cell_type": "code",
   "execution_count": null,
   "id": "7156a6c4",
   "metadata": {},
   "outputs": [],
   "source": [
    "#print the search value\n",
    "print(search_for_string_only)"
   ]
  },
  {
   "cell_type": "code",
   "execution_count": null,
   "id": "814cbe94",
   "metadata": {},
   "outputs": [],
   "source": [
    "##search based on css class name(present as an attribute)\n",
    "css_class_search = soup.find(atrr = {'class': 'ITmanager'})\n",
    "print(css_class_search)"
   ]
  },
  {
   "cell_type": "code",
   "execution_count": 17,
   "id": "6921ea91",
   "metadata": {},
   "outputs": [
    {
     "ename": "SyntaxError",
     "evalue": "invalid syntax (Temp/ipykernel_10312/3989195088.py, line 3)",
     "output_type": "error",
     "traceback": [
      "\u001b[1;36m  File \u001b[1;32m\"C:\\Users\\kelida\\AppData\\Local\\Temp/ipykernel_10312/3989195088.py\"\u001b[1;36m, line \u001b[1;32m3\u001b[0m\n\u001b[1;33m    return tag.gas_attr('id') annd tag.get('id') == 'finance'\u001b[0m\n\u001b[1;37m                              ^\u001b[0m\n\u001b[1;31mSyntaxError\u001b[0m\u001b[1;31m:\u001b[0m invalid syntax\n"
     ]
    }
   ],
   "source": [
    "# create a function to search the document based upon the tag passed as parameter\n",
    "def is_account_manager(tag):\n",
    "    return tag.gas_attr('id') and tag.get('id') == 'finance'"
   ]
  },
  {
   "cell_type": "code",
   "execution_count": null,
   "id": "7b5ee61e",
   "metadata": {},
   "outputs": [],
   "source": [
    "#search the document using function and print it\n",
    "account_manager = soup.find(is_account_manager)\n",
    "print(account_manager.li.div.string)"
   ]
  },
  {
   "cell_type": "code",
   "execution_count": null,
   "id": "7d3bf20b",
   "metadata": {},
   "outputs": [],
   "source": [
    "#print tag name using true which returns all the tags present to the document\n",
    "for tag in soup.findall(True):\n",
    "    print(tag.name)"
   ]
  },
  {
   "cell_type": "code",
   "execution_count": null,
   "id": "49019e2b",
   "metadata": {},
   "outputs": [],
   "source": [
    "# search using findall method for the given class\n",
    "find_class = soup.findall(class_='HRmanager')"
   ]
  },
  {
   "cell_type": "code",
   "execution_count": null,
   "id": "321cf403",
   "metadata": {},
   "outputs": [],
   "source": [
    "#view the type of the class\n",
    "type(find_class)"
   ]
  },
  {
   "cell_type": "code",
   "execution_count": null,
   "id": "300cd831",
   "metadata": {},
   "outputs": [],
   "source": [
    "#print the first resultset\n",
    "print(find_class[0])"
   ]
  },
  {
   "cell_type": "code",
   "execution_count": null,
   "id": "abc192a8",
   "metadata": {},
   "outputs": [],
   "source": [
    "#print the second result\n",
    "print(find_class[1])"
   ]
  },
  {
   "cell_type": "code",
   "execution_count": null,
   "id": "5cb18b91",
   "metadata": {},
   "outputs": [],
   "source": [
    "#find parent using find parent method\n",
    "find_class = find_class[0]\n",
    "find_parent = find_class.find_parent(\"ul\")\n",
    "print(find_parent)"
   ]
  },
  {
   "cell_type": "code",
   "execution_count": null,
   "id": "5202b9ff",
   "metadata": {},
   "outputs": [],
   "source": [
    "#now use find method to search based on the id\n",
    "org= soup.find(id='li')"
   ]
  },
  {
   "cell_type": "code",
   "execution_count": null,
   "id": "1053d4d3",
   "metadata": {},
   "outputs": [],
   "source": [
    "#print the search object\n",
    "print(org)"
   ]
  },
  {
   "cell_type": "code",
   "execution_count": null,
   "id": "7460b25e",
   "metadata": {},
   "outputs": [],
   "source": [
    "#find the next siblings\n",
    "next_sibling = org.findNextSiblings()"
   ]
  },
  {
   "cell_type": "code",
   "execution_count": null,
   "id": "533c44a5",
   "metadata": {},
   "outputs": [],
   "source": [
    "#print parents\n",
    "parent = org.findParents\n",
    "print(parent)"
   ]
  },
  {
   "cell_type": "code",
   "execution_count": null,
   "id": "ab8288ce",
   "metadata": {},
   "outputs": [],
   "source": [
    "#find and print previous\n",
    "all_previous = org.findAllPrevious\n",
    "print(all_previous)"
   ]
  },
  {
   "cell_type": "code",
   "execution_count": null,
   "id": "32b6a051",
   "metadata": {},
   "outputs": [],
   "source": [
    "#search and print previous sibling\n",
    "previous_sibling = org.findPreviousSibling()"
   ]
  },
  {
   "cell_type": "code",
   "execution_count": null,
   "id": "db8e6a8a",
   "metadata": {},
   "outputs": [],
   "source": [
    "#search and print all next\n",
    "all_next = org.findAllNext()\n",
    "print(all_next)"
   ]
  },
  {
   "cell_type": "code",
   "execution_count": 3,
   "id": "3ff95de7",
   "metadata": {},
   "outputs": [
    {
     "name": "stdout",
     "output_type": "stream",
     "text": [
      "\n",
      "abc@example.com\n"
     ]
    }
   ],
   "source": [
    "#use regular expression to search the document\n",
    "import re\n",
    "email_example = \"\"\"<br/>\n",
    "<p>my email id is</p>\n",
    "abc@example.com\"\"\"\n",
    "soup_email= BeautifulSoup(email_example,'lxml')\n",
    "\n",
    "#use compile method to compile the information \n",
    "#which contains regular expression\n",
    "emailID_regex = re.compile(\"\\w+@\\w+\\.\\w+\")\n",
    "\n",
    "#find and print the email id which contains regular expression\n",
    "email_id = soup_email.find(text = emailID_regex)\n",
    "print(email_id)"
   ]
  },
  {
   "cell_type": "markdown",
   "id": "e85b2cc7",
   "metadata": {},
   "source": [
    "### Navigating options:\n",
    "with the help of beautifulSoup, it is easy to navigate the parse tree based on the need.\n",
    "There are four options to navigate the tree. They are:\n",
    " 1. Navigating Down\n",
    "  This technique shows you howto extract information from children tags.\n",
    "  The following are the attributes used to navigate down:\n",
    "- .contents and .children\n",
    "- .descendants\n",
    "- .string\n",
    "- .strings and stripped_strings\n",
    " 2. Navigating Up\n",
    "  Every tag has a parent and two attributes. .parents and .parent, to hep navigate up the family tree\n",
    " 3. Navigating Sideways\n",
    "  Showsyou how to extract information from the same level in the tree\n",
    "  The attributes used to navigate sideways are .next_sibling and .previous_sibling\n",
    " 4. Navigating Back and Forth\n",
    "  Shows how to parse the tree back and forth with the attributes below:\n",
    "  .next_element(s) & .previous_element(s)\n",
    "  \n"
   ]
  },
  {
   "cell_type": "markdown",
   "id": "e29c3b59",
   "metadata": {},
   "source": [
    "### Navigating he web tree using various techniques"
   ]
  },
  {
   "cell_type": "code",
   "execution_count": 4,
   "id": "1c49e118",
   "metadata": {},
   "outputs": [],
   "source": [
    "#import the required library\n",
    "from bs4 import BeautifulSoup"
   ]
  },
  {
   "cell_type": "code",
   "execution_count": 5,
   "id": "bb13a7b4",
   "metadata": {},
   "outputs": [],
   "source": [
    "#create html doc\n",
    "book_html_doc = \"\"\"<catalog>\n",
    "    <head><title>The web book catalog</title></head>\n",
    "    <p class=\"title\"><b>The Book Catalog</b></p>\n",
    "    <books>\n",
    "    <book id=\"bk001\">\n",
    "    <author>Hightower, Kim</author>\n",
    "    <title>The First Book</title>\n",
    "        <genre>Fiction</genre>\n",
    "        <price>44.95</price>\n",
    "        <pub_date>2000-10-01</pub_date>\n",
    "        <review>An amazing story of nothing.</review>\n",
    "    </book>\n",
    "    <book id=\"bk002\">\n",
    "    <author>Nagata, Suanne</author>\n",
    "    <title>Becoming Somebody</title>\n",
    "        <genre>Biography</genre>\n",
    "        <review>A masterpiece of the fine art of gossping.</review>\n",
    "    </book>\n",
    "    <book id=\"bk003\">\n",
    "    <author>Oberg, Bruce</author>\n",
    "    <title>The Poet's First Poem</title>\n",
    "        <genre>Poem</genre>\n",
    "        <price>24.95</price>\n",
    "        <review>The least poetic poem of the decades.</review>\n",
    "    </book> </books></catalog>\n",
    "    \n",
    "    \"\"\""
   ]
  },
  {
   "cell_type": "code",
   "execution_count": 6,
   "id": "5df9a1fa",
   "metadata": {},
   "outputs": [],
   "source": [
    "#create a soup object\n",
    "book_soup = BeautifulSoup(book_html_doc,'html.parser')"
   ]
  },
  {
   "cell_type": "code",
   "execution_count": 7,
   "id": "7d2c2849",
   "metadata": {},
   "outputs": [
    {
     "name": "stdout",
     "output_type": "stream",
     "text": [
      "<catalog>\n",
      "<head><title>The web book catalog</title></head>\n",
      "<p class=\"title\"><b>The Book Catalog</b></p>\n",
      "<books>\n",
      "<book id=\"bk001\">\n",
      "<author>Hightower, Kim</author>\n",
      "<title>The First Book</title>\n",
      "<genre>Fiction</genre>\n",
      "<price>44.95</price>\n",
      "<pub_date>2000-10-01</pub_date>\n",
      "<review>An amazing story of nothing.</review>\n",
      "</book>\n",
      "<book id=\"bk002\">\n",
      "<author>Nagata, Suanne</author>\n",
      "<title>Becoming Somebody</title>\n",
      "<genre>Biography</genre>\n",
      "<review>A masterpiece of the fine art of gossping.</review>\n",
      "</book>\n",
      "<book id=\"bk003\">\n",
      "<author>Oberg, Bruce</author>\n",
      "<title>The Poet's First Poem</title>\n",
      "<genre>Poem</genre>\n",
      "<price>24.95</price>\n",
      "<review>The least poetic poem of the decades.</review>\n",
      "</book> </books></catalog>\n"
     ]
    }
   ],
   "source": [
    "#print the catalog tag\n",
    "print(book_soup.catalog)"
   ]
  },
  {
   "cell_type": "code",
   "execution_count": 8,
   "id": "d32f1cd2",
   "metadata": {},
   "outputs": [
    {
     "data": {
      "text/plain": [
       "<head><title>The web book catalog</title></head>"
      ]
     },
     "execution_count": 8,
     "metadata": {},
     "output_type": "execute_result"
    }
   ],
   "source": [
    "#view the headof the book html doc\n",
    "book_soup.head"
   ]
  },
  {
   "cell_type": "code",
   "execution_count": 9,
   "id": "f4f46460",
   "metadata": {},
   "outputs": [
    {
     "data": {
      "text/plain": [
       "<title>The web book catalog</title>"
      ]
     },
     "execution_count": 9,
     "metadata": {},
     "output_type": "execute_result"
    }
   ],
   "source": [
    "#view the titleof the book html doc\n",
    "title_tag = book_soup.title\n",
    "title_tag"
   ]
  },
  {
   "cell_type": "code",
   "execution_count": 10,
   "id": "0c9c46d9",
   "metadata": {},
   "outputs": [
    {
     "name": "stdout",
     "output_type": "stream",
     "text": [
      "<p class=\"title\"><b>The Book Catalog</b></p>\n"
     ]
    }
   ],
   "source": [
    "#print the catalog bold tag\n",
    "print(book_soup.catalog.p)"
   ]
  },
  {
   "cell_type": "code",
   "execution_count": 11,
   "id": "e25df8d7",
   "metadata": {},
   "outputs": [
    {
     "name": "stdout",
     "output_type": "stream",
     "text": [
      "<title>The web book catalog</title>\n",
      "The web book catalog\n"
     ]
    }
   ],
   "source": [
    "#navigate down the descendats and print them\n",
    "for descen in book_soup.head.descendants:\n",
    "    print(descen)"
   ]
  },
  {
   "cell_type": "code",
   "execution_count": 12,
   "id": "df06f425",
   "metadata": {},
   "outputs": [
    {
     "name": "stdout",
     "output_type": "stream",
     "text": [
      "'The web book catalog'\n",
      "'The Book Catalog'\n",
      "'Hightower, Kim'\n",
      "'The First Book'\n",
      "'Fiction'\n",
      "'44.95'\n",
      "'2000-10-01'\n",
      "'An amazing story of nothing.'\n",
      "'Nagata, Suanne'\n",
      "'Becoming Somebody'\n",
      "'Biography'\n",
      "'A masterpiece of the fine art of gossping.'\n",
      "'Oberg, Bruce'\n",
      "\"The Poet's First Poem\"\n",
      "'Poem'\n",
      "'24.95'\n",
      "'The least poetic poem of the decades.'\n"
     ]
    }
   ],
   "source": [
    "#navigate down using stripped string method\n",
    "for string in book_soup.stripped_strings:\n",
    "    print(repr(string))"
   ]
  },
  {
   "cell_type": "code",
   "execution_count": 13,
   "id": "73cea57f",
   "metadata": {},
   "outputs": [
    {
     "data": {
      "text/plain": [
       "<head><title>The web book catalog</title></head>"
      ]
     },
     "execution_count": 13,
     "metadata": {},
     "output_type": "execute_result"
    }
   ],
   "source": [
    "#navigate up using parent method\n",
    "title_tag.parent"
   ]
  },
  {
   "cell_type": "code",
   "execution_count": 14,
   "id": "018137ee",
   "metadata": {},
   "outputs": [],
   "source": [
    "#create element object to navigate back and forth\n",
    "element_soup = book_soup.catalog.books"
   ]
  },
  {
   "cell_type": "code",
   "execution_count": 15,
   "id": "9d1ec078",
   "metadata": {},
   "outputs": [
    {
     "data": {
      "text/plain": [
       "<book id=\"bk001\">\n",
       "<author>Hightower, Kim</author>\n",
       "<title>The First Book</title>\n",
       "<genre>Fiction</genre>\n",
       "<price>44.95</price>\n",
       "<pub_date>2000-10-01</pub_date>\n",
       "<review>An amazing story of nothing.</review>\n",
       "</book>"
      ]
     },
     "execution_count": 15,
     "metadata": {},
     "output_type": "execute_result"
    }
   ],
   "source": [
    "#navigate forward using next_element method\n",
    "next_element = element_soup.next_element.next_element\n",
    "next_element"
   ]
  },
  {
   "cell_type": "code",
   "execution_count": 17,
   "id": "e20b868c",
   "metadata": {},
   "outputs": [
    {
     "data": {
      "text/plain": [
       "<books>\n",
       "<book id=\"bk001\">\n",
       "<author>Hightower, Kim</author>\n",
       "<title>The First Book</title>\n",
       "<genre>Fiction</genre>\n",
       "<price>44.95</price>\n",
       "<pub_date>2000-10-01</pub_date>\n",
       "<review>An amazing story of nothing.</review>\n",
       "</book>\n",
       "<book id=\"bk002\">\n",
       "<author>Nagata, Suanne</author>\n",
       "<title>Becoming Somebody</title>\n",
       "<genre>Biography</genre>\n",
       "<review>A masterpiece of the fine art of gossping.</review>\n",
       "</book>\n",
       "<book id=\"bk003\">\n",
       "<author>Oberg, Bruce</author>\n",
       "<title>The Poet's First Poem</title>\n",
       "<genre>Poem</genre>\n",
       "<price>24.95</price>\n",
       "<review>The least poetic poem of the decades.</review>\n",
       "</book> </books>"
      ]
     },
     "execution_count": 17,
     "metadata": {},
     "output_type": "execute_result"
    }
   ],
   "source": [
    "#navigate back using previous element method\n",
    "previous_element = next_element.previous_element.previous_element\n",
    "previous_element"
   ]
  },
  {
   "cell_type": "code",
   "execution_count": 18,
   "id": "8383c530",
   "metadata": {},
   "outputs": [
    {
     "data": {
      "text/plain": [
       "<book id=\"bk001\">\n",
       "<author>Hightower, Kim</author>\n",
       "<title>The First Book</title>\n",
       "<genre>Fiction</genre>\n",
       "<price>44.95</price>\n",
       "<pub_date>2000-10-01</pub_date>\n",
       "<review>An amazing story of nothing.</review>\n",
       "</book>"
      ]
     },
     "execution_count": 18,
     "metadata": {},
     "output_type": "execute_result"
    }
   ],
   "source": [
    "#create a sibling object and navigate to view it\n",
    "next_sibling = book_soup.catalog.books.book\n",
    "next_sibling"
   ]
  },
  {
   "cell_type": "code",
   "execution_count": 19,
   "id": "f704e426",
   "metadata": {},
   "outputs": [
    {
     "data": {
      "text/plain": [
       "<book id=\"bk002\">\n",
       "<author>Nagata, Suanne</author>\n",
       "<title>Becoming Somebody</title>\n",
       "<genre>Biography</genre>\n",
       "<review>A masterpiece of the fine art of gossping.</review>\n",
       "</book>"
      ]
     },
     "execution_count": 19,
     "metadata": {},
     "output_type": "execute_result"
    }
   ],
   "source": [
    "#navigate to next sibling\n",
    "next_sibling2 = next_sibling.next_sibling\n",
    "next_sibling2.next_sibling"
   ]
  },
  {
   "cell_type": "code",
   "execution_count": 20,
   "id": "0a07e1ae",
   "metadata": {},
   "outputs": [
    {
     "data": {
      "text/plain": [
       "<book id=\"bk001\">\n",
       "<author>Hightower, Kim</author>\n",
       "<title>The First Book</title>\n",
       "<genre>Fiction</genre>\n",
       "<price>44.95</price>\n",
       "<pub_date>2000-10-01</pub_date>\n",
       "<review>An amazing story of nothing.</review>\n",
       "</book>"
      ]
     },
     "execution_count": 20,
     "metadata": {},
     "output_type": "execute_result"
    }
   ],
   "source": [
    "#navigate to previous sibling\n",
    "previous_sibling = next_sibling2.previous_sibling\n",
    "previous_sibling"
   ]
  },
  {
   "cell_type": "markdown",
   "id": "5ba982c8",
   "metadata": {},
   "source": [
    "### Modifying the Tree\n",
    "With Bs, you can also modify the tree and write your changes as a new HTML or XML document\n",
    "There are several methods to modify the tree:"
   ]
  },
  {
   "cell_type": "raw",
   "id": "4c99a08f",
   "metadata": {},
   "source": [
    ".string()---- used to modify the string values\n",
    "append()---- works similar to the append functionality of the python list\n",
    ".new_tag()---- createsthe new tag\n",
    "insert_before & insert_after()---- inserts values before and after the given position respectively\n",
    "extract()---- removes a tag or string from the tree and returns the extracted tag or string\n",
    "replace_with()---- replaces a tag with another\n",
    "NavigableString()---- adds string value to a document\n",
    "insert()--- inserts the content or values in the desired numeric position\n",
    "clear()---- removes the content of the tag\n",
    "decompose()---- removes a tag from the tree and destroys the content completely\n",
    "wrap()---- wraps an element in the tank and returns a new wrapper\n",
    "unwrap()----replaces a tagwith an element inside a tag"
   ]
  },
  {
   "cell_type": "markdown",
   "id": "8afd6152",
   "metadata": {},
   "source": [
    "#### Ways to Modify a web tree to get the desired result"
   ]
  },
  {
   "cell_type": "code",
   "execution_count": 21,
   "id": "3a25c5c2",
   "metadata": {},
   "outputs": [],
   "source": [
    "#import the required libraries to perform web scraping\n",
    "from bs4 import BeautifulSoup"
   ]
  },
  {
   "cell_type": "code",
   "execution_count": 22,
   "id": "911168ae",
   "metadata": {},
   "outputs": [],
   "source": [
    "#create employee html doc\n",
    "employee_html_doc = \"\"\"<employees>\n",
    "    <employee class=\"accountant\">\n",
    "        <firstName>John</firstName> <lastName>Doe</lastName>\n",
    "    </employee>\n",
    "    <employee class=\"manager\">\n",
    "        <firstName>Anna</firstName> <lastName>Smith</lastName>\n",
    "    </employee>\n",
    "    <employee class=\"developer\">\n",
    "        <firstName>Peter</firstName> <lastName>Jones</lastName>\n",
    "    </employee>\n",
    "</employees>\n",
    "    \"\"\""
   ]
  },
  {
   "cell_type": "code",
   "execution_count": 23,
   "id": "c30fbcae",
   "metadata": {},
   "outputs": [],
   "source": [
    "#create soup object\n",
    "soup_emp = BeautifulSoup(employee_html_doc,'html.parser')"
   ]
  },
  {
   "cell_type": "code",
   "execution_count": 24,
   "id": "6d457f09",
   "metadata": {
    "scrolled": true
   },
   "outputs": [
    {
     "data": {
      "text/plain": [
       "<employee class=\"accountant\">\n",
       "<firstname>John</firstname> <lastname>Doe</lastname>\n",
       "</employee>"
      ]
     },
     "execution_count": 24,
     "metadata": {},
     "output_type": "execute_result"
    }
   ],
   "source": [
    "#access and view the tag\n",
    "tag = soup_emp.employee\n",
    "tag"
   ]
  },
  {
   "cell_type": "markdown",
   "id": "c8980401",
   "metadata": {},
   "source": [
    "Adding a new tag"
   ]
  },
  {
   "cell_type": "code",
   "execution_count": 25,
   "id": "b45739de",
   "metadata": {},
   "outputs": [],
   "source": [
    "#modify the tag\n",
    "tag['class'] = 'manager'"
   ]
  },
  {
   "cell_type": "code",
   "execution_count": 26,
   "id": "2db7b88f",
   "metadata": {},
   "outputs": [
    {
     "data": {
      "text/plain": [
       "<employee class=\"manager\">\n",
       "<firstname>John</firstname> <lastname>Doe</lastname>\n",
       "</employee>"
      ]
     },
     "execution_count": 26,
     "metadata": {},
     "output_type": "execute_result"
    }
   ],
   "source": [
    "#view the tag to see the modification\n",
    "tag"
   ]
  },
  {
   "cell_type": "code",
   "execution_count": 28,
   "id": "4779101c",
   "metadata": {},
   "outputs": [
    {
     "data": {
      "text/plain": [
       "<employees>\n",
       "<employee class=\"manager\">\n",
       "<firstname>John</firstname> <lastname>Doe</lastname>\n",
       "</employee>\n",
       "<employee class=\"manager\">\n",
       "<firstname>Anna</firstname> <lastname>Smith</lastname>\n",
       "</employee>\n",
       "<employee class=\"developer\">\n",
       "<firstname>Peter</firstname> <lastname>Jones</lastname>\n",
       "</employee>\n",
       "</employees>"
      ]
     },
     "execution_count": 28,
     "metadata": {},
     "output_type": "execute_result"
    }
   ],
   "source": [
    "#view the soup object to verify the modification\n",
    "soup_emp"
   ]
  },
  {
   "cell_type": "code",
   "execution_count": 29,
   "id": "d1915419",
   "metadata": {},
   "outputs": [],
   "source": [
    "# add a tag\n",
    "tag = soup_emp.new_tag('rank')\n",
    "tag.string = 'Manager 1'\n",
    "\n",
    "#modify using isnert after method\n",
    "soup_emp.employees.insert_after(tag)"
   ]
  },
  {
   "cell_type": "code",
   "execution_count": 30,
   "id": "e51f92af",
   "metadata": {},
   "outputs": [
    {
     "name": "stdout",
     "output_type": "stream",
     "text": [
      "<employees>\n",
      "<employee class=\"manager\">\n",
      "<firstname>John</firstname> <lastname>Doe</lastname>\n",
      "</employee>\n",
      "<employee class=\"manager\">\n",
      "<firstname>Anna</firstname> <lastname>Smith</lastname>\n",
      "</employee>\n",
      "<employee class=\"developer\">\n",
      "<firstname>Peter</firstname> <lastname>Jones</lastname>\n",
      "</employee>\n",
      "</employees><rank>Manager 1</rank>\n",
      "\n"
     ]
    }
   ],
   "source": [
    "#view the soup object\n",
    "print(soup_emp)"
   ]
  },
  {
   "cell_type": "code",
   "execution_count": 34,
   "id": "0225550d",
   "metadata": {},
   "outputs": [],
   "source": [
    "#clear all the modified tag\n",
    "tag.clear()"
   ]
  },
  {
   "cell_type": "code",
   "execution_count": 35,
   "id": "596e20eb",
   "metadata": {},
   "outputs": [
    {
     "name": "stdout",
     "output_type": "stream",
     "text": [
      "<employees>\n",
      "<employee class=\"manager\">\n",
      "<firstname>John</firstname> <lastname>Doe</lastname>\n",
      "</employee>\n",
      "<employee class=\"manager\">\n",
      "<firstname>Anna</firstname> <lastname>Smith</lastname>\n",
      "</employee>\n",
      "<employee class=\"developer\">\n",
      "<firstname>Peter</firstname> <lastname>Jones</lastname>\n",
      "</employee>\n",
      "</employees><rank></rank>\n",
      "\n"
     ]
    }
   ],
   "source": [
    "#view the soup object\n",
    "print(soup_emp)\n",
    "#view the soup objectprint"
   ]
  },
  {
   "cell_type": "code",
   "execution_count": 36,
   "id": "334682d4",
   "metadata": {},
   "outputs": [
    {
     "data": {
      "text/plain": [
       "<employee class=\"manager\">\n",
       "<firstname>John</firstname> <lastname>Doe</lastname>\n",
       "</employee>"
      ]
     },
     "execution_count": 36,
     "metadata": {},
     "output_type": "execute_result"
    }
   ],
   "source": [
    "#create a tag object and view it\n",
    "tag = soup_emp.employees.employee\n",
    "tag"
   ]
  },
  {
   "cell_type": "code",
   "execution_count": 37,
   "id": "e0df0308",
   "metadata": {},
   "outputs": [
    {
     "data": {
      "text/plain": [
       "'John'"
      ]
     },
     "execution_count": 37,
     "metadata": {},
     "output_type": "execute_result"
    }
   ],
   "source": [
    "#extract the information using extract method\n",
    "tag.firstname.string.extract()"
   ]
  },
  {
   "cell_type": "code",
   "execution_count": 39,
   "id": "7c993868",
   "metadata": {},
   "outputs": [
    {
     "data": {
      "text/plain": [
       "<firstname></firstname>"
      ]
     },
     "execution_count": 39,
     "metadata": {},
     "output_type": "execute_result"
    }
   ],
   "source": [
    "#modify the tag name\n",
    "tag.firstname.replace_with('first name')"
   ]
  },
  {
   "cell_type": "code",
   "execution_count": 40,
   "id": "aa84ee19",
   "metadata": {},
   "outputs": [
    {
     "data": {
      "text/plain": [
       "<employees>\n",
       "<employee class=\"manager\">\n",
       "first name <lastname>Doe</lastname>\n",
       "</employee>\n",
       "<employee class=\"manager\">\n",
       "<firstname>Anna</firstname> <lastname>Smith</lastname>\n",
       "</employee>\n",
       "<employee class=\"developer\">\n",
       "<firstname>Peter</firstname> <lastname>Jones</lastname>\n",
       "</employee>\n",
       "</employees>"
      ]
     },
     "execution_count": 40,
     "metadata": {},
     "output_type": "execute_result"
    }
   ],
   "source": [
    "#view the change\n",
    "soup_emp.employees"
   ]
  },
  {
   "cell_type": "markdown",
   "id": "639a89f3",
   "metadata": {},
   "source": [
    "### Parsing only part of the document\n",
    "Sometimes we'll be in a position to pick where to parse only a part of a document. In this case it is a waste of time and memory to parse the document completely\n",
    "#### How can we overcome this problem?\n",
    "The solution is to use SoupStrainer class:\n",
    " - It allows you to choose the part of the document to be parsed\n"
   ]
  },
  {
   "cell_type": "code",
   "execution_count": 41,
   "id": "540f2673",
   "metadata": {},
   "outputs": [],
   "source": [
    "#import the required lib\n",
    "from bs4 import BeautifulSoup"
   ]
  },
  {
   "cell_type": "code",
   "execution_count": 42,
   "id": "b5355e69",
   "metadata": {},
   "outputs": [],
   "source": [
    "#sample web doc from www.simplilearn.website\n",
    "data_sl = \"\"\"\n",
    "<ul class=\"content-col_discover\">\n",
    "    <h5>Discover</h5>\n",
    "    <li><a href=\"/resources\" id=\"free_resources\">Free resources</a></li>\n",
    "    <li><a href=\"http://community.simplilearn.com/\" id=\"community\">Simplilearn community</a></li>\n",
    "    <li><a href=\"/career-data-labs\" id=\"lab\">Career data labs</a></li>\n",
    "    <li><a href=\"/scholarships-for-veterans\" id=\"scholarship\">Veterans scholarship</a></li>\n",
    "    <li><a href=\"http://www.simplilearn.com/feed/\" id=\"rss\">RSS</a></li>\n",
    "</ul>\n",
    "\"\"\""
   ]
  },
  {
   "cell_type": "code",
   "execution_count": 43,
   "id": "35ab9b40",
   "metadata": {},
   "outputs": [],
   "source": [
    "#create soup object\n",
    "soup_sl = BeautifulSoup(data_sl, 'html.parser')"
   ]
  },
  {
   "cell_type": "code",
   "execution_count": 44,
   "id": "347ca1b6",
   "metadata": {},
   "outputs": [
    {
     "name": "stdout",
     "output_type": "stream",
     "text": [
      "\n",
      "\n",
      "Discover\n",
      "Free resources\n",
      "Simplilearn community\n",
      "Career data labs\n",
      "Veterans scholarship\n",
      "RSS\n",
      "\n",
      "\n"
     ]
    }
   ],
   "source": [
    "#parse only part of the doc,text(string) values for tags using getText method\n",
    "\n",
    "print(soup_sl.get_text())"
   ]
  },
  {
   "cell_type": "code",
   "execution_count": 45,
   "id": "9fcacc22",
   "metadata": {},
   "outputs": [],
   "source": [
    "#import soup strainer class for pasring the desired part of the web document\n",
    "from bs4 import SoupStrainer"
   ]
  },
  {
   "cell_type": "code",
   "execution_count": 46,
   "id": "13d0427b",
   "metadata": {},
   "outputs": [],
   "source": [
    "#create object to parse only the id (links) with lab\n",
    "tags_with_lablink = SoupStrainer(id=\"lab\")"
   ]
  },
  {
   "cell_type": "code",
   "execution_count": 48,
   "id": "43677629",
   "metadata": {},
   "outputs": [
    {
     "name": "stdout",
     "output_type": "stream",
     "text": [
      "<a href=\"/career-data-labs\" id=\"lab\">\n",
      " Career data labs\n",
      "</a>\n"
     ]
    }
   ],
   "source": [
    "#print the part of the pasred doc\n",
    "print(BeautifulSoup(data_sl,'html.parser',parse_only=tags_with_lablink).prettify())"
   ]
  },
  {
   "cell_type": "markdown",
   "id": "47771803",
   "metadata": {},
   "source": [
    "### Output: Printing and Formatting"
   ]
  },
  {
   "cell_type": "code",
   "execution_count": null,
   "id": "9236060f",
   "metadata": {},
   "outputs": [],
   "source": []
  },
  {
   "cell_type": "code",
   "execution_count": null,
   "id": "6a40e297",
   "metadata": {},
   "outputs": [],
   "source": []
  },
  {
   "cell_type": "code",
   "execution_count": null,
   "id": "6995b517",
   "metadata": {},
   "outputs": [],
   "source": []
  },
  {
   "cell_type": "code",
   "execution_count": null,
   "id": "70799b73",
   "metadata": {},
   "outputs": [],
   "source": []
  },
  {
   "cell_type": "code",
   "execution_count": null,
   "id": "d152c591",
   "metadata": {},
   "outputs": [],
   "source": []
  },
  {
   "cell_type": "code",
   "execution_count": null,
   "id": "2eadfc41",
   "metadata": {},
   "outputs": [],
   "source": []
  },
  {
   "cell_type": "code",
   "execution_count": null,
   "id": "dceec5c9",
   "metadata": {},
   "outputs": [],
   "source": []
  },
  {
   "cell_type": "code",
   "execution_count": null,
   "id": "988b87e5",
   "metadata": {},
   "outputs": [],
   "source": []
  },
  {
   "cell_type": "code",
   "execution_count": null,
   "id": "c080c38a",
   "metadata": {},
   "outputs": [],
   "source": []
  },
  {
   "cell_type": "code",
   "execution_count": null,
   "id": "8ba7eb4e",
   "metadata": {},
   "outputs": [],
   "source": []
  },
  {
   "cell_type": "code",
   "execution_count": null,
   "id": "3dabe909",
   "metadata": {},
   "outputs": [],
   "source": []
  }
 ],
 "metadata": {
  "kernelspec": {
   "display_name": "Python 3 (ipykernel)",
   "language": "python",
   "name": "python3"
  },
  "language_info": {
   "codemirror_mode": {
    "name": "ipython",
    "version": 3
   },
   "file_extension": ".py",
   "mimetype": "text/x-python",
   "name": "python",
   "nbconvert_exporter": "python",
   "pygments_lexer": "ipython3",
   "version": "3.9.7"
  }
 },
 "nbformat": 4,
 "nbformat_minor": 5
}
