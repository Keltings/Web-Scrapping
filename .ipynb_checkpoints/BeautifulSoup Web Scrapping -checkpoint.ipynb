{
 "cells": [
  {
   "cell_type": "code",
   "execution_count": null,
   "id": "18d65bdb",
   "metadata": {},
   "outputs": [],
   "source": [
    "# impor bs4 the beautiful soup library\n",
    "from bs4 import BeautifulSoup\n",
    "\n",
    "# create a html document\n",
    "html_doc = \"\"\"<html>\n",
    "<body>\n",
    "<h1>My Fisrt Heading</h1>\n",
    "<b><!--\n",
    "\n",
    "\n",
    "\n",
    "\"\"\"\n",
    "#parse it using html parser"
   ]
  },
  {
   "cell_type": "code",
   "execution_count": null,
   "id": "be60b2a5",
   "metadata": {},
   "outputs": [],
   "source": [
    "# view the soup type"
   ]
  },
  {
   "cell_type": "code",
   "execution_count": null,
   "id": "cfcfb7f1",
   "metadata": {},
   "outputs": [],
   "source": [
    "#view the soup object"
   ]
  },
  {
   "cell_type": "code",
   "execution_count": null,
   "id": "15c8344a",
   "metadata": {},
   "outputs": [],
   "source": [
    "#create a tag object"
   ]
  },
  {
   "cell_type": "code",
   "execution_count": null,
   "id": "35143297",
   "metadata": {},
   "outputs": [],
   "source": [
    "#view the tag object type"
   ]
  },
  {
   "cell_type": "code",
   "execution_count": null,
   "id": "f4eceeb2",
   "metadata": {},
   "outputs": [],
   "source": [
    "#print the tag"
   ]
  },
  {
   "cell_type": "code",
   "execution_count": null,
   "id": "0c8d8710",
   "metadata": {},
   "outputs": [],
   "source": [
    "#create a coment object type"
   ]
  },
  {
   "cell_type": "code",
   "execution_count": null,
   "id": "cb7fb2d6",
   "metadata": {},
   "outputs": [],
   "source": [
    "# view the comment object type"
   ]
  },
  {
   "cell_type": "code",
   "execution_count": null,
   "id": "fe74d461",
   "metadata": {},
   "outputs": [],
   "source": []
  },
  {
   "cell_type": "code",
   "execution_count": null,
   "id": "4ba71e9e",
   "metadata": {},
   "outputs": [],
   "source": []
  },
  {
   "cell_type": "code",
   "execution_count": null,
   "id": "39251c2b",
   "metadata": {},
   "outputs": [],
   "source": []
  },
  {
   "cell_type": "code",
   "execution_count": null,
   "id": "8afd930e",
   "metadata": {},
   "outputs": [],
   "source": []
  },
  {
   "cell_type": "code",
   "execution_count": null,
   "id": "0b502557",
   "metadata": {},
   "outputs": [],
   "source": []
  },
  {
   "cell_type": "code",
   "execution_count": null,
   "id": "4b3eee5d",
   "metadata": {},
   "outputs": [],
   "source": []
  },
  {
   "cell_type": "code",
   "execution_count": null,
   "id": "f6e98f14",
   "metadata": {},
   "outputs": [],
   "source": []
  },
  {
   "cell_type": "code",
   "execution_count": null,
   "id": "3a09442b",
   "metadata": {},
   "outputs": [],
   "source": []
  },
  {
   "cell_type": "code",
   "execution_count": null,
   "id": "249b55e6",
   "metadata": {},
   "outputs": [],
   "source": []
  },
  {
   "cell_type": "code",
   "execution_count": null,
   "id": "412a28a1",
   "metadata": {},
   "outputs": [],
   "source": []
  },
  {
   "cell_type": "code",
   "execution_count": null,
   "id": "1820a2aa",
   "metadata": {},
   "outputs": [],
   "source": []
  },
  {
   "cell_type": "code",
   "execution_count": null,
   "id": "3986d7ce",
   "metadata": {},
   "outputs": [],
   "source": []
  },
  {
   "cell_type": "code",
   "execution_count": null,
   "id": "2466d89b",
   "metadata": {},
   "outputs": [],
   "source": []
  },
  {
   "cell_type": "code",
   "execution_count": null,
   "id": "658119b4",
   "metadata": {},
   "outputs": [],
   "source": []
  },
  {
   "cell_type": "code",
   "execution_count": null,
   "id": "cdd22098",
   "metadata": {},
   "outputs": [],
   "source": []
  },
  {
   "cell_type": "code",
   "execution_count": null,
   "id": "26cf2db4",
   "metadata": {},
   "outputs": [],
   "source": []
  },
  {
   "cell_type": "code",
   "execution_count": null,
   "id": "e0cdc16f",
   "metadata": {},
   "outputs": [],
   "source": []
  },
  {
   "cell_type": "code",
   "execution_count": null,
   "id": "6bb451a3",
   "metadata": {},
   "outputs": [],
   "source": []
  },
  {
   "cell_type": "code",
   "execution_count": null,
   "id": "f422c5ea",
   "metadata": {},
   "outputs": [],
   "source": []
  },
  {
   "cell_type": "code",
   "execution_count": null,
   "id": "b14fcabf",
   "metadata": {},
   "outputs": [],
   "source": []
  }
 ],
 "metadata": {
  "kernelspec": {
   "display_name": "Python 3 (ipykernel)",
   "language": "python",
   "name": "python3"
  },
  "language_info": {
   "codemirror_mode": {
    "name": "ipython",
    "version": 3
   },
   "file_extension": ".py",
   "mimetype": "text/x-python",
   "name": "python",
   "nbconvert_exporter": "python",
   "pygments_lexer": "ipython3",
   "version": "3.9.7"
  }
 },
 "nbformat": 4,
 "nbformat_minor": 5
}
