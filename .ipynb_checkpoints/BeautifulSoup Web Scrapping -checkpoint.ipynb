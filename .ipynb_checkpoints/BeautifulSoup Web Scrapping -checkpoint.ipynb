{
 "cells": [
  {
   "cell_type": "code",
   "execution_count": 1,
   "id": "30afa1b5",
   "metadata": {},
   "outputs": [],
   "source": [
    "# impor bs4 the beautiful soup library\n",
    "from bs4 import BeautifulSoup\n",
    "\n",
    "# create a html document\n",
    "html_doc = \"\"\"<html>\n",
    "<body>\n",
    "<h1>My Fisrt Heading</h1>\n",
    "<b><!--This is a comment line--></b>\n",
    "<p title=\"About Me\" class=\"test\">y fist paragraph.</p>\n",
    "<div class=\"cities\">\n",
    "<h2>London</h2>\n",
    "</div>\n",
    "</body>\n",
    "</html>\"\"\"\n",
    "\n",
    "#parse it using html parser\n",
    "soup = BeautifulSoup(html_doc, 'html.parser')"
   ]
  },
  {
   "cell_type": "code",
   "execution_count": 2,
   "id": "17d34291",
   "metadata": {},
   "outputs": [
    {
     "data": {
      "text/plain": [
       "bs4.BeautifulSoup"
      ]
     },
     "execution_count": 2,
     "metadata": {},
     "output_type": "execute_result"
    }
   ],
   "source": [
    "# view the soup type\n",
    "type(soup)"
   ]
  },
  {
   "cell_type": "code",
   "execution_count": 3,
   "id": "f4e75909",
   "metadata": {},
   "outputs": [
    {
     "name": "stdout",
     "output_type": "stream",
     "text": [
      "<html>\n",
      "<body>\n",
      "<h1>My Fisrt Heading</h1>\n",
      "<b><!--This is a comment line--></b>\n",
      "<p class=\"test\" title=\"About Me\">y fist paragraph.</p>\n",
      "<div class=\"cities\">\n",
      "<h2>London</h2>\n",
      "</div>\n",
      "</body>\n",
      "</html>\n"
     ]
    }
   ],
   "source": [
    "#view the soup object\n",
    "print (soup)"
   ]
  },
  {
   "cell_type": "code",
   "execution_count": 4,
   "id": "76b0ca44",
   "metadata": {},
   "outputs": [],
   "source": [
    "#create a tag object\n",
    "tag = soup.p"
   ]
  },
  {
   "cell_type": "code",
   "execution_count": 5,
   "id": "c7dff35d",
   "metadata": {},
   "outputs": [
    {
     "data": {
      "text/plain": [
       "bs4.element.Tag"
      ]
     },
     "execution_count": 5,
     "metadata": {},
     "output_type": "execute_result"
    }
   ],
   "source": [
    "#view the tag object type\n",
    "type(tag)"
   ]
  },
  {
   "cell_type": "code",
   "execution_count": 6,
   "id": "6bbda435",
   "metadata": {},
   "outputs": [
    {
     "name": "stdout",
     "output_type": "stream",
     "text": [
      "<p class=\"test\" title=\"About Me\">y fist paragraph.</p>\n"
     ]
    }
   ],
   "source": [
    "#print the tag\n",
    "print(tag)"
   ]
  },
  {
   "cell_type": "code",
   "execution_count": 7,
   "id": "fc3eedfa",
   "metadata": {},
   "outputs": [],
   "source": [
    "#create a coment object type\n",
    "comment =soup.b.string"
   ]
  },
  {
   "cell_type": "code",
   "execution_count": 8,
   "id": "05961c8f",
   "metadata": {},
   "outputs": [
    {
     "data": {
      "text/plain": [
       "bs4.element.Comment"
      ]
     },
     "execution_count": 8,
     "metadata": {},
     "output_type": "execute_result"
    }
   ],
   "source": [
    "# view the comment object type\n",
    "type(comment)"
   ]
  },
  {
   "cell_type": "code",
   "execution_count": 9,
   "id": "4e46784a",
   "metadata": {},
   "outputs": [
    {
     "data": {
      "text/plain": [
       "'This is a comment line'"
      ]
     },
     "execution_count": 9,
     "metadata": {},
     "output_type": "execute_result"
    }
   ],
   "source": [
    "#view the comment\n",
    "comment"
   ]
  },
  {
   "cell_type": "code",
   "execution_count": 10,
   "id": "42849e0c",
   "metadata": {},
   "outputs": [
    {
     "data": {
      "text/plain": [
       "{'title': 'About Me', 'class': ['test']}"
      ]
     },
     "execution_count": 10,
     "metadata": {},
     "output_type": "execute_result"
    }
   ],
   "source": [
    "#view the tag attribute\n",
    "tag.attrs"
   ]
  },
  {
   "cell_type": "code",
   "execution_count": 11,
   "id": "3fb16e40",
   "metadata": {},
   "outputs": [
    {
     "data": {
      "text/plain": [
       "'y fist paragraph.'"
      ]
     },
     "execution_count": 11,
     "metadata": {},
     "output_type": "execute_result"
    }
   ],
   "source": [
    "#view the tag value\n",
    "tag.string"
   ]
  },
  {
   "cell_type": "code",
   "execution_count": 12,
   "id": "47c57595",
   "metadata": {},
   "outputs": [
    {
     "data": {
      "text/plain": [
       "bs4.element.NavigableString"
      ]
     },
     "execution_count": 12,
     "metadata": {},
     "output_type": "execute_result"
    }
   ],
   "source": [
    "#view the tag type (navigable string)\n",
    "type(tag.string)"
   ]
  },
  {
   "cell_type": "markdown",
   "id": "b9f593c9",
   "metadata": {},
   "source": [
    "## Understanding the Tree\n"
   ]
  },
  {
   "cell_type": "raw",
   "id": "f90cbab4",
   "metadata": {},
   "source": [
    "<!DOCTYPE html>\n",
    "<html>\n",
    "    <body>\n",
    "        <div>\n",
    "            <div class=\"organizationlist\">\n",
    "                <ul id=\"HR\">\n",
    "                    <li class=\"HRmanager\">\n",
    "                        <div class=\"name\">Jack</div>\n",
    "                            <div class=\"ID\">65</div>\n",
    "                     </li>\n",
    "                     <li class=\"ITmanager\">   \n",
    "                         <div class=\"name\">Daren</div>\n",
    "                         <div class=\"ID>101</div>\n",
    "                     </li>\n",
    "                </ul>\n",
    "           </div>\n",
    "     </body>\n",
    "</html>\n",
    "                            "
   ]
  },
  {
   "cell_type": "markdown",
   "id": "fa563bb9",
   "metadata": {},
   "source": [
    "### Searching the Tree-Filters\n",
    "With the help of the search filters technique,you can extract specific information from the parsed document.\n",
    "The filters can be created as search criteria for extractinf information based on the elemnets present in the document\n",
    "There are various filters usde for searching information from a tree\n",
    "- String: \n",
    "It is the smallest filterBS will perform a match aginst the search string\n",
    "- Regular Expressions:\n",
    "filters the match against the search criteria\n",
    "- Function:\n",
    "filters the elements that match againts its only argument\n",
    "- List:\n",
    "a list filters the string that matches against the search item in the list\n",
    "\n"
   ]
  },
  {
   "cell_type": "markdown",
   "id": "67649027",
   "metadata": {},
   "source": [
    "\n",
    "#### Searching the tree with find_all()\n",
    "It searches and retrieves all tags' descendants that matches your filters"
   ]
  },
  {
   "cell_type": "raw",
   "id": "8f85fbfe",
   "metadata": {},
   "source": [
    "find_all-------method finds the entire document looking for results\n",
    "(\n",
    "    name,-------pass args for tags with name\n",
    "    attrs,------pass tags with attribute\n",
    "    recursive,------pass boolean value for recursive operations\n",
    "    string,--------search for string instead of tags\n",
    "    limit,------limit the search result to numeric value passed \n",
    "    **kwargs-----filters multiple attributes by passing multiple keywords in the arg\n",
    ")"
   ]
  },
  {
   "cell_type": "markdown",
   "id": "f0b4c666",
   "metadata": {},
   "source": [
    "#### Searching the tree with find()\n",
    "Used to find one result"
   ]
  },
  {
   "cell_type": "raw",
   "id": "286cb3c3",
   "metadata": {},
   "source": [
    "\n",
    "Has similar syntax with the find_all()\n",
    "but with some key difference\n",
    "    Method Name ---------- Search Scope ------------------- Match Found ------------------------- Match Not Found\n",
    "    ----------------------------------------------------------------------------------------------------------------\n",
    "    Find_all() ----------- Scan entire doc ---------------- Returns list with values ------------ Returns empty list\n",
    "    ----------------------------------------------------------------------------------------------------------------\n",
    "    Find() --------------- Searches only for passed arg---- Returns only the first match value--- Returns None"
   ]
  },
  {
   "cell_type": "markdown",
   "id": "cfb383f1",
   "metadata": {},
   "source": [
    "#### Searching the parsed tree with other methods:"
   ]
  },
  {
   "cell_type": "raw",
   "id": "44b9bdbc",
   "metadata": {},
   "source": [
    "Scans for all the matches --------------- Scans only for the first match\n",
    "----------------------------------------------------------------------------------------------\n",
    "find_parents() -------------------------- find_parent()\n",
    "find_previous_siblings() ---------------- find_previous_sibling()\n",
    "find_all_next() ------------------------- find_next()\n",
    "find_all_previaous() -------------------- find_previous()\n",
    "find_next_siblings() -------------------- findnext_sibling()"
   ]
  },
  {
   "cell_type": "code",
   "execution_count": 13,
   "id": "c7ed4d53",
   "metadata": {},
   "outputs": [],
   "source": [
    "#import the reqired library\n",
    "from bs4 import BeautifulSoup"
   ]
  },
  {
   "cell_type": "code",
   "execution_count": 16,
   "id": "c0a7d448",
   "metadata": {
    "scrolled": true
   },
   "outputs": [
    {
     "ename": "FileNotFoundError",
     "evalue": "[Errno 2] No such file or directory: 'web_scrapping example.html'",
     "output_type": "error",
     "traceback": [
      "\u001b[1;31m---------------------------------------------------------------------------\u001b[0m",
      "\u001b[1;31mFileNotFoundError\u001b[0m                         Traceback (most recent call last)",
      "\u001b[1;32m~\\AppData\\Local\\Temp/ipykernel_10312/3421969326.py\u001b[0m in \u001b[0;36m<module>\u001b[1;34m\u001b[0m\n\u001b[0;32m      2\u001b[0m \u001b[0mHTMLfilePath\u001b[0m \u001b[1;33m=\u001b[0m \u001b[1;34m\"web_scrapping example.html\"\u001b[0m \u001b[1;31m#change as per the path of your HTMLfile\u001b[0m\u001b[1;33m\u001b[0m\u001b[1;33m\u001b[0m\u001b[0m\n\u001b[0;32m      3\u001b[0m \u001b[1;33m\u001b[0m\u001b[0m\n\u001b[1;32m----> 4\u001b[1;33m \u001b[1;32mwith\u001b[0m \u001b[0mopen\u001b[0m\u001b[1;33m(\u001b[0m\u001b[0mHTMLfilePath\u001b[0m\u001b[1;33m,\u001b[0m\u001b[1;34m\"r\"\u001b[0m\u001b[1;33m)\u001b[0m \u001b[1;32mas\u001b[0m \u001b[0morganization\u001b[0m\u001b[1;33m:\u001b[0m\u001b[1;33m\u001b[0m\u001b[1;33m\u001b[0m\u001b[0m\n\u001b[0m\u001b[0;32m      5\u001b[0m     \u001b[0msoup\u001b[0m \u001b[1;33m=\u001b[0m \u001b[0mBeautifulSoup\u001b[0m\u001b[1;33m(\u001b[0m\u001b[0morganization\u001b[0m\u001b[1;33m,\u001b[0m\u001b[1;34m\"lxml\"\u001b[0m\u001b[1;33m)\u001b[0m\u001b[1;33m\u001b[0m\u001b[1;33m\u001b[0m\u001b[0m\n",
      "\u001b[1;31mFileNotFoundError\u001b[0m: [Errno 2] No such file or directory: 'web_scrapping example.html'"
     ]
    }
   ],
   "source": [
    "#import the webscraping example html file\n",
    "HTMLfilePath = \"web_scrapping example.html\" #change as per the path of your HTMLfile\n",
    "\n",
    "with open(HTMLfilePath,\"r\") as organization:\n",
    "    soup = BeautifulSoup(organization,\"lxml\")"
   ]
  },
  {
   "cell_type": "code",
   "execution_count": null,
   "id": "2a2bd3b5",
   "metadata": {},
   "outputs": [],
   "source": [
    "#view the content of the soup object#search using find method\n",
    "soup.contents"
   ]
  },
  {
   "cell_type": "code",
   "execution_count": null,
   "id": "c950487d",
   "metadata": {},
   "outputs": [],
   "source": [
    "#search using find method\n",
    "tag_li = soup.find('li')"
   ]
  },
  {
   "cell_type": "code",
   "execution_count": null,
   "id": "38ff54cc",
   "metadata": {},
   "outputs": [],
   "source": [
    "#print the tag type\n",
    "print(type(tag_li))"
   ]
  },
  {
   "cell_type": "code",
   "execution_count": null,
   "id": "78e2ceae",
   "metadata": {},
   "outputs": [],
   "source": [
    "#print the tag\n",
    "print(tag_li)"
   ]
  },
  {
   "cell_type": "code",
   "execution_count": null,
   "id": "87c4cb39",
   "metadata": {},
   "outputs": [],
   "source": [
    "#search the document using find method for an id\n",
    "find_id = soup.find(id=\"HR\")"
   ]
  },
  {
   "cell_type": "code",
   "execution_count": null,
   "id": "f9bfb579",
   "metadata": {},
   "outputs": [],
   "source": [
    "##print the find id object\n",
    "print(find_id)"
   ]
  },
  {
   "cell_type": "code",
   "execution_count": null,
   "id": "59a0b97b",
   "metadata": {},
   "outputs": [],
   "source": [
    "#print the string value\n",
    "print(find_id.li.div.string)"
   ]
  },
  {
   "cell_type": "code",
   "execution_count": null,
   "id": "f10d15d2",
   "metadata": {},
   "outputs": [],
   "source": [
    "#search using string only\n",
    "search_for_string_only = soup.findall(text=['Kelly','Jack'])"
   ]
  },
  {
   "cell_type": "code",
   "execution_count": null,
   "id": "7156a6c4",
   "metadata": {},
   "outputs": [],
   "source": [
    "#print the search value\n",
    "print(search_for_string_only)"
   ]
  },
  {
   "cell_type": "code",
   "execution_count": null,
   "id": "814cbe94",
   "metadata": {},
   "outputs": [],
   "source": [
    "##search based on css class name(present as an attribute)\n",
    "css_class_search = soup.find(atrr = {'class': 'ITmanager'})\n",
    "print(css_class_search)"
   ]
  },
  {
   "cell_type": "code",
   "execution_count": 17,
   "id": "6921ea91",
   "metadata": {},
   "outputs": [
    {
     "ename": "SyntaxError",
     "evalue": "invalid syntax (Temp/ipykernel_10312/3989195088.py, line 3)",
     "output_type": "error",
     "traceback": [
      "\u001b[1;36m  File \u001b[1;32m\"C:\\Users\\kelida\\AppData\\Local\\Temp/ipykernel_10312/3989195088.py\"\u001b[1;36m, line \u001b[1;32m3\u001b[0m\n\u001b[1;33m    return tag.gas_attr('id') annd tag.get('id') == 'finance'\u001b[0m\n\u001b[1;37m                              ^\u001b[0m\n\u001b[1;31mSyntaxError\u001b[0m\u001b[1;31m:\u001b[0m invalid syntax\n"
     ]
    }
   ],
   "source": [
    "# create a function to search the document based upon the tag passed as parameter\n",
    "def is_account_manager(tag):\n",
    "    return tag.gas_attr('id') and tag.get('id') == 'finance'"
   ]
  },
  {
   "cell_type": "code",
   "execution_count": null,
   "id": "7b5ee61e",
   "metadata": {},
   "outputs": [],
   "source": [
    "#search the document using function and print it\n",
    "account_manager = soup.find(is_account_manager)\n",
    "print(account_manager)"
   ]
  },
  {
   "cell_type": "code",
   "execution_count": null,
   "id": "7d3bf20b",
   "metadata": {},
   "outputs": [],
   "source": [
    "#print tag name using true which returns all the tags present to the document"
   ]
  },
  {
   "cell_type": "code",
   "execution_count": null,
   "id": "49019e2b",
   "metadata": {},
   "outputs": [],
   "source": [
    "# search using findall method for the given class"
   ]
  },
  {
   "cell_type": "code",
   "execution_count": null,
   "id": "321cf403",
   "metadata": {},
   "outputs": [],
   "source": [
    "#view the type of the class"
   ]
  },
  {
   "cell_type": "code",
   "execution_count": null,
   "id": "300cd831",
   "metadata": {},
   "outputs": [],
   "source": []
  },
  {
   "cell_type": "code",
   "execution_count": null,
   "id": "abc192a8",
   "metadata": {},
   "outputs": [],
   "source": []
  },
  {
   "cell_type": "code",
   "execution_count": null,
   "id": "5cb18b91",
   "metadata": {},
   "outputs": [],
   "source": []
  },
  {
   "cell_type": "code",
   "execution_count": null,
   "id": "5202b9ff",
   "metadata": {},
   "outputs": [],
   "source": []
  },
  {
   "cell_type": "code",
   "execution_count": null,
   "id": "7460b25e",
   "metadata": {},
   "outputs": [],
   "source": []
  },
  {
   "cell_type": "code",
   "execution_count": null,
   "id": "533c44a5",
   "metadata": {},
   "outputs": [],
   "source": []
  },
  {
   "cell_type": "code",
   "execution_count": null,
   "id": "ab8288ce",
   "metadata": {},
   "outputs": [],
   "source": []
  },
  {
   "cell_type": "code",
   "execution_count": null,
   "id": "32b6a051",
   "metadata": {},
   "outputs": [],
   "source": []
  },
  {
   "cell_type": "code",
   "execution_count": null,
   "id": "db8e6a8a",
   "metadata": {},
   "outputs": [],
   "source": []
  },
  {
   "cell_type": "code",
   "execution_count": null,
   "id": "3ff95de7",
   "metadata": {},
   "outputs": [],
   "source": []
  },
  {
   "cell_type": "code",
   "execution_count": null,
   "id": "7cefcde4",
   "metadata": {},
   "outputs": [],
   "source": []
  },
  {
   "cell_type": "code",
   "execution_count": null,
   "id": "8532b4b7",
   "metadata": {},
   "outputs": [],
   "source": []
  },
  {
   "cell_type": "code",
   "execution_count": null,
   "id": "1c49e118",
   "metadata": {},
   "outputs": [],
   "source": []
  },
  {
   "cell_type": "code",
   "execution_count": null,
   "id": "bb13a7b4",
   "metadata": {},
   "outputs": [],
   "source": []
  },
  {
   "cell_type": "code",
   "execution_count": null,
   "id": "5df9a1fa",
   "metadata": {},
   "outputs": [],
   "source": []
  },
  {
   "cell_type": "code",
   "execution_count": null,
   "id": "7d2c2849",
   "metadata": {},
   "outputs": [],
   "source": []
  },
  {
   "cell_type": "code",
   "execution_count": null,
   "id": "d32f1cd2",
   "metadata": {},
   "outputs": [],
   "source": []
  },
  {
   "cell_type": "code",
   "execution_count": null,
   "id": "f4f46460",
   "metadata": {},
   "outputs": [],
   "source": []
  },
  {
   "cell_type": "code",
   "execution_count": null,
   "id": "0c9c46d9",
   "metadata": {},
   "outputs": [],
   "source": []
  },
  {
   "cell_type": "code",
   "execution_count": null,
   "id": "e25df8d7",
   "metadata": {},
   "outputs": [],
   "source": []
  },
  {
   "cell_type": "code",
   "execution_count": null,
   "id": "df06f425",
   "metadata": {},
   "outputs": [],
   "source": []
  },
  {
   "cell_type": "code",
   "execution_count": null,
   "id": "73cea57f",
   "metadata": {},
   "outputs": [],
   "source": []
  },
  {
   "cell_type": "code",
   "execution_count": null,
   "id": "018137ee",
   "metadata": {},
   "outputs": [],
   "source": []
  }
 ],
 "metadata": {
  "kernelspec": {
   "display_name": "Python 3 (ipykernel)",
   "language": "python",
   "name": "python3"
  },
  "language_info": {
   "codemirror_mode": {
    "name": "ipython",
    "version": 3
   },
   "file_extension": ".py",
   "mimetype": "text/x-python",
   "name": "python",
   "nbconvert_exporter": "python",
   "pygments_lexer": "ipython3",
   "version": "3.9.7"
  }
 },
 "nbformat": 4,
 "nbformat_minor": 5
}
