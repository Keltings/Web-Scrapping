{
 "cells": [
  {
   "cell_type": "markdown",
   "metadata": {},
   "source": [
    "#### 1: View and print the Simplilearn web page content in a good format"
   ]
  },
  {
   "cell_type": "code",
   "execution_count": 1,
   "metadata": {},
   "outputs": [],
   "source": [
    "#Import the required libraries\n",
    "from bs4 import BeautifulSoup\n",
    "import requests"
   ]
  },
  {
   "cell_type": "code",
   "execution_count": 2,
   "metadata": {},
   "outputs": [],
   "source": [
    "#Provide the url for web scraping\n",
    "url = 'http://www.simplelearn.com'"
   ]
  },
  {
   "cell_type": "code",
   "execution_count": 3,
   "metadata": {},
   "outputs": [],
   "source": [
    "#Access the url with the request object\n",
    "result = requests.get(url)"
   ]
  },
  {
   "cell_type": "code",
   "execution_count": 5,
   "metadata": {},
   "outputs": [],
   "source": [
    "#Scrape the webpage content\n",
    "webpage=result.content"
   ]
  },
  {
   "cell_type": "code",
   "execution_count": 8,
   "metadata": {},
   "outputs": [],
   "source": [
    "#Create a soup object to parse the webpage using html parser\n",
    "sl_soup = BeautifulSoup(webpage,'html.parser')"
   ]
  },
  {
   "cell_type": "code",
   "execution_count": 9,
   "metadata": {},
   "outputs": [],
   "source": [
    "#Close the result object\n",
    "result.close()"
   ]
  },
  {
   "cell_type": "code",
   "execution_count": 10,
   "metadata": {},
   "outputs": [
    {
     "data": {
      "text/plain": [
       "['html',\n",
       " <html data-adblockkey=\"MFwwDQYJKoZIhvcNAQEBBQADSwAwSAJBANDrp2lz7AOmADaN8tA50LsWcjLFyQFcb/P2Txc58oYOeILb3vBw7J6f4pamkAQVSQuqYsKx3YzdUHCvbVZvFUsCAwEAAQ==_pU0RTvIyCaSCtQkzGQEM8NgEB+j/4C2SQkZJ+0WnncBLLcJybokRz5PCx90RnNH+hwKBAlv/OpHy2pJkoSXrFA==\"><head><meta charset=\"utf-8\"/><meta content=\"width=device-width, initial-scale=1\" name=\"viewport\"/><link crossorigin=\"\" href=\"https://www.google.com\" rel=\"preconnect\"/><link crossorigin=\"\" href=\"https://parking.bodiscdn.com\" rel=\"dns-prefetch\"/></head><body><div id=\"target\" style=\"opacity: 0\"></div><script>window.park = \"eyJ1dWlkIjoiYzg3NWMzYmQtODA3My01YTMzLTg3ZjItYmVhMDlkMzEyYzgxIiwicGFnZV90aW1lIjoxNjU2MzIwMjUxLCJwYWdlX3VybCI6Imh0dHA6XC9cL3d3dy5zaW1wbGVsZWFybi5jb21cLyIsInBhZ2VfbWV0aG9kIjoiR0VUIiwicGFnZV9yZXF1ZXN0IjpbXSwicGFnZV9oZWFkZXJzIjp7ImNvbm5lY3Rpb24iOlsia2VlcC1hbGl2ZSJdLCJhY2NlcHQiOlsiKlwvKiJdLCJhY2NlcHQtZW5jb2RpbmciOlsiZ3ppcCwgZGVmbGF0ZSwgYnIiXSwidXNlci1hZ2VudCI6WyJweXRob24tcmVxdWVzdHNcLzIuMjYuMCJdLCJob3N0IjpbInd3dy5zaW1wbGVsZWFybi5jb20iXX0sImhvc3QiOiJ3d3cuc2ltcGxlbGVhcm4uY29tIiwiaXAiOiIxOTcuMjM3LjE1My43OSJ9\";</script><script src=\"/js/parking.2.91.2.js\"></script></body></html>]"
      ]
     },
     "execution_count": 10,
     "metadata": {},
     "output_type": "execute_result"
    }
   ],
   "source": [
    "#View the content of the soup object\n",
    "sl_soup.contents"
   ]
  },
  {
   "cell_type": "code",
   "execution_count": 11,
   "metadata": {},
   "outputs": [
    {
     "name": "stdout",
     "output_type": "stream",
     "text": [
      "<!DOCTYPE html>\n",
      "<html data-adblockkey=\"MFwwDQYJKoZIhvcNAQEBBQADSwAwSAJBANDrp2lz7AOmADaN8tA50LsWcjLFyQFcb/P2Txc58oYOeILb3vBw7J6f4pamkAQVSQuqYsKx3YzdUHCvbVZvFUsCAwEAAQ==_pU0RTvIyCaSCtQkzGQEM8NgEB+j/4C2SQkZJ+0WnncBLLcJybokRz5PCx90RnNH+hwKBAlv/OpHy2pJkoSXrFA==\">\n",
      " <head>\n",
      "  <meta charset=\"utf-8\"/>\n",
      "  <meta content=\"width=device-width, initial-scale=1\" name=\"viewport\"/>\n",
      "  <link crossorigin=\"\" href=\"https://www.google.com\" rel=\"preconnect\"/>\n",
      "  <link crossorigin=\"\" href=\"https://parking.bodiscdn.com\" rel=\"dns-prefetch\"/>\n",
      " </head>\n",
      " <body>\n",
      "  <div id=\"target\" style=\"opacity: 0\">\n",
      "  </div>\n",
      "  <script>\n",
      "   window.park = \"eyJ1dWlkIjoiYzg3NWMzYmQtODA3My01YTMzLTg3ZjItYmVhMDlkMzEyYzgxIiwicGFnZV90aW1lIjoxNjU2MzIwMjUxLCJwYWdlX3VybCI6Imh0dHA6XC9cL3d3dy5zaW1wbGVsZWFybi5jb21cLyIsInBhZ2VfbWV0aG9kIjoiR0VUIiwicGFnZV9yZXF1ZXN0IjpbXSwicGFnZV9oZWFkZXJzIjp7ImNvbm5lY3Rpb24iOlsia2VlcC1hbGl2ZSJdLCJhY2NlcHQiOlsiKlwvKiJdLCJhY2NlcHQtZW5jb2RpbmciOlsiZ3ppcCwgZGVmbGF0ZSwgYnIiXSwidXNlci1hZ2VudCI6WyJweXRob24tcmVxdWVzdHNcLzIuMjYuMCJdLCJob3N0IjpbInd3dy5zaW1wbGVsZWFybi5jb20iXX0sImhvc3QiOiJ3d3cuc2ltcGxlbGVhcm4uY29tIiwiaXAiOiIxOTcuMjM3LjE1My43OSJ9\";\n",
      "  </script>\n",
      "  <script src=\"/js/parking.2.91.2.js\">\n",
      "  </script>\n",
      " </body>\n",
      "</html>\n"
     ]
    }
   ],
   "source": [
    "#use the prettify() method to view a well formatted output (with html tags)\n",
    "print(sl_soup.prettify())"
   ]
  },
  {
   "cell_type": "markdown",
   "metadata": {},
   "source": [
    "#### 2: View the head and title of the webpage"
   ]
  },
  {
   "cell_type": "code",
   "execution_count": 13,
   "metadata": {},
   "outputs": [
    {
     "name": "stdout",
     "output_type": "stream",
     "text": [
      "<head><meta charset=\"utf-8\"/><meta content=\"width=device-width, initial-scale=1\" name=\"viewport\"/><link crossorigin=\"\" href=\"https://www.google.com\" rel=\"preconnect\"/><link crossorigin=\"\" href=\"https://parking.bodiscdn.com\" rel=\"dns-prefetch\"/></head>\n"
     ]
    }
   ],
   "source": [
    "#View the head of the soup object\n",
    "print(sl_soup.head)"
   ]
  },
  {
   "cell_type": "code",
   "execution_count": 16,
   "metadata": {},
   "outputs": [
    {
     "name": "stdout",
     "output_type": "stream",
     "text": [
      "None\n"
     ]
    }
   ],
   "source": [
    "#View the title of the webpage\n",
    "print(sl_soup.title)"
   ]
  },
  {
   "cell_type": "markdown",
   "metadata": {},
   "source": [
    "#### 3: Print all the href links present in the Simplilearn webpage"
   ]
  },
  {
   "cell_type": "code",
   "execution_count": 20,
   "metadata": {},
   "outputs": [],
   "source": [
    "#Find all the links present in the webpage\n",
    "for href in sl_soup.findAll('a', href=True):\n",
    "    print (href['href'])"
   ]
  },
  {
   "cell_type": "code",
   "execution_count": null,
   "metadata": {},
   "outputs": [],
   "source": []
  }
 ],
 "metadata": {
  "kernelspec": {
   "display_name": "Python 3 (ipykernel)",
   "language": "python",
   "name": "python3"
  },
  "language_info": {
   "codemirror_mode": {
    "name": "ipython",
    "version": 3
   },
   "file_extension": ".py",
   "mimetype": "text/x-python",
   "name": "python",
   "nbconvert_exporter": "python",
   "pygments_lexer": "ipython3",
   "version": "3.9.7"
  }
 },
 "nbformat": 4,
 "nbformat_minor": 1
}
